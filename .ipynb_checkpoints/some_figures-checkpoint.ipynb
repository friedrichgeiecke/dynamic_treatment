{
 "cells": [
  {
   "cell_type": "markdown",
   "metadata": {},
   "source": [
    "### Figures"
   ]
  },
  {
   "cell_type": "code",
   "execution_count": 1,
   "metadata": {},
   "outputs": [],
   "source": [
    "# Importing modules\n",
    "import numpy as np\n",
    "import pandas as pd\n",
    "import os\n",
    "import matplotlib.pyplot as plt\n",
    "import seaborn as sns\n",
    "plt.style.use('seaborn')\n",
    "plt.rc('font', family='serif')"
   ]
  },
  {
   "cell_type": "code",
   "execution_count": 31,
   "metadata": {},
   "outputs": [
    {
     "data": {
      "image/png": "[encoded data removed]",
      "text/plain": [
       "<Figure size 864x72 with 1 Axes>"
      ]
     },
     "metadata": {
      "needs_background": "light"
     },
     "output_type": "display_data"
    }
   ],
   "source": [
    "# Colour palette used in the paper (the coefficient plots have 12 coefficients in the policy function)\n",
    "palette_used = sns.color_palette(\"hls\", 12)\n",
    "sns.palplot(palette_used)"
   ]
  },
  {
   "cell_type": "code",
   "execution_count": 32,
   "metadata": {},
   "outputs": [
    {
     "data": {
      "text/plain": [
       "(0.33999999999999997, 0.5688000000000001, 0.86)"
      ]
     },
     "execution_count": 32,
     "metadata": {},
     "output_type": "execute_result"
    }
   ],
   "source": [
    "palette_used[7]"
   ]
  },
  {
   "cell_type": "code",
   "execution_count": 3,
   "metadata": {},
   "outputs": [],
   "source": [
    "# Loading output of the run with standard OLS rewards\n",
    "standard_ols = pd.read_csv(os.path.join('/Users/friedrich/Documents/research_repos/dynamic_treatment/data', 'transformed_rct_data_standard_ols.csv'), index_col = 0)\n",
    "\n",
    "# Loading output of the run with doubly robust rewards\n",
    "doubly_robust = pd.read_csv(os.path.join('/Users/friedrich/Documents/research_repos/dynamic_treatment/data', 'transformed_rct_data_doubly_robust.csv'), index_col = 0)"
   ]
  },
  {
   "cell_type": "markdown",
   "metadata": {},
   "source": [
    "#### Standard OLS"
   ]
  },
  {
   "cell_type": "code",
   "execution_count": 4,
   "metadata": {},
   "outputs": [
    {
     "data": {
      "text/html": [
       "<div>\n",
       "<style scoped>\n",
       "    .dataframe tbody tr th:only-of-type {\n",
       "        vertical-align: middle;\n",
       "    }\n",
       "\n",
       "    .dataframe tbody tr th {\n",
       "        vertical-align: top;\n",
       "    }\n",
       "\n",
       "    .dataframe thead th {\n",
       "        text-align: right;\n",
       "    }\n",
       "</style>\n",
       "<table border=\"1\" class=\"dataframe\">\n",
       "  <thead>\n",
       "    <tr style=\"text-align: right;\">\n",
       "      <th></th>\n",
       "      <th>age</th>\n",
       "      <th>education</th>\n",
       "      <th>prev_earnings</th>\n",
       "      <th>Rlr1</th>\n",
       "      <th>clstrs9</th>\n",
       "      <th>rewards_before_standardisation</th>\n",
       "    </tr>\n",
       "  </thead>\n",
       "  <tbody>\n",
       "    <tr>\n",
       "      <th>0</th>\n",
       "      <td>1.327606</td>\n",
       "      <td>0.207613</td>\n",
       "      <td>-0.758122</td>\n",
       "      <td>-0.000056</td>\n",
       "      <td>2</td>\n",
       "      <td>-205.948738</td>\n",
       "    </tr>\n",
       "    <tr>\n",
       "      <th>1</th>\n",
       "      <td>-0.952930</td>\n",
       "      <td>-0.326505</td>\n",
       "      <td>0.084063</td>\n",
       "      <td>0.000239</td>\n",
       "      <td>4</td>\n",
       "      <td>882.458186</td>\n",
       "    </tr>\n",
       "    <tr>\n",
       "      <th>2</th>\n",
       "      <td>0.083677</td>\n",
       "      <td>0.207613</td>\n",
       "      <td>-0.758122</td>\n",
       "      <td>0.000033</td>\n",
       "      <td>2</td>\n",
       "      <td>123.798038</td>\n",
       "    </tr>\n",
       "    <tr>\n",
       "      <th>3</th>\n",
       "      <td>-0.227305</td>\n",
       "      <td>-0.860622</td>\n",
       "      <td>1.464251</td>\n",
       "      <td>0.000357</td>\n",
       "      <td>1</td>\n",
       "      <td>1320.997656</td>\n",
       "    </tr>\n",
       "    <tr>\n",
       "      <th>4</th>\n",
       "      <td>-1.160251</td>\n",
       "      <td>-1.394739</td>\n",
       "      <td>1.493332</td>\n",
       "      <td>0.000495</td>\n",
       "      <td>1</td>\n",
       "      <td>1829.981703</td>\n",
       "    </tr>\n",
       "  </tbody>\n",
       "</table>\n",
       "</div>"
      ],
      "text/plain": [
       "        age  education  prev_earnings      Rlr1  clstrs9  \\\n",
       "0  1.327606   0.207613      -0.758122 -0.000056        2   \n",
       "1 -0.952930  -0.326505       0.084063  0.000239        4   \n",
       "2  0.083677   0.207613      -0.758122  0.000033        2   \n",
       "3 -0.227305  -0.860622       1.464251  0.000357        1   \n",
       "4 -1.160251  -1.394739       1.493332  0.000495        1   \n",
       "\n",
       "   rewards_before_standardisation  \n",
       "0                     -205.948738  \n",
       "1                      882.458186  \n",
       "2                      123.798038  \n",
       "3                     1320.997656  \n",
       "4                     1829.981703  "
      ]
     },
     "execution_count": 4,
     "metadata": {},
     "output_type": "execute_result"
    }
   ],
   "source": [
    "standard_ols.head()"
   ]
  },
  {
   "cell_type": "code",
   "execution_count": 5,
   "metadata": {},
   "outputs": [
    {
     "data": {
      "image/png": "[encoded data removed]",
      "text/plain": [
       "<Figure size 576x360 with 1 Axes>"
      ]
     },
     "metadata": {
      "needs_background": "light"
     },
     "output_type": "display_data"
    }
   ],
   "source": [
    "# Standard OLS rewards before standardisation\n",
    "pandas_plot = standard_ols['rewards_before_standardisation'].plot(kind = 'hist', color = palette_used[8], title = '\\nRewards standard OLS\\n', density = False, bins = 100, figsize = (8,5))\n",
    "pandas_figure = pandas_plot.get_figure()\n",
    "pandas_figure.tight_layout()\n",
    "pandas_figure.savefig(os.path.join('/Users/friedrich/Documents/research_repos/dynamic_treatment/data', 'standard_ols_hist.pdf'))"
   ]
  },
  {
   "cell_type": "code",
   "execution_count": 6,
   "metadata": {},
   "outputs": [
    {
     "data": {
      "text/plain": [
       "451.7761718536154"
      ]
     },
     "execution_count": 6,
     "metadata": {},
     "output_type": "execute_result"
    }
   ],
   "source": [
    "# Mean\n",
    "standard_ols['rewards_before_standardisation'].mean()"
   ]
  },
  {
   "cell_type": "code",
   "execution_count": 7,
   "metadata": {},
   "outputs": [
    {
     "data": {
      "text/plain": [
       "577.5972798383519"
      ]
     },
     "execution_count": 7,
     "metadata": {},
     "output_type": "execute_result"
    }
   ],
   "source": [
    "# Sd\n",
    "standard_ols['rewards_before_standardisation'].std()"
   ]
  },
  {
   "cell_type": "code",
   "execution_count": 8,
   "metadata": {},
   "outputs": [
    {
     "data": {
      "image/png": "[encoded data removed]",
      "text/plain": [
       "<Figure size 576x360 with 1 Axes>"
      ]
     },
     "metadata": {
      "needs_background": "light"
     },
     "output_type": "display_data"
    }
   ],
   "source": [
    "# Standard OLS rewards after standardisation\n",
    "pandas_plot = standard_ols['Rlr1'].plot(kind = 'hist', color = palette_used[4], title = '\\nRewards standard OLS (after standardisation)\\n', density = False, bins = 100, figsize = (8,5))\n",
    "pandas_figure = pandas_plot.get_figure()\n",
    "pandas_figure.tight_layout()\n",
    "pandas_figure.savefig(os.path.join('/Users/friedrich/Documents/research_repos/dynamic_treatment/data', 'standard_ols_hist_standardised.pdf'))"
   ]
  },
  {
   "cell_type": "markdown",
   "metadata": {},
   "source": [
    "#### Doubly robust OLS (cross-fitted)"
   ]
  },
  {
   "cell_type": "code",
   "execution_count": 9,
   "metadata": {},
   "outputs": [
    {
     "data": {
      "text/html": [
       "<div>\n",
       "<style scoped>\n",
       "    .dataframe tbody tr th:only-of-type {\n",
       "        vertical-align: middle;\n",
       "    }\n",
       "\n",
       "    .dataframe tbody tr th {\n",
       "        vertical-align: top;\n",
       "    }\n",
       "\n",
       "    .dataframe thead th {\n",
       "        text-align: right;\n",
       "    }\n",
       "</style>\n",
       "<table border=\"1\" class=\"dataframe\">\n",
       "  <thead>\n",
       "    <tr style=\"text-align: right;\">\n",
       "      <th></th>\n",
       "      <th>age</th>\n",
       "      <th>education</th>\n",
       "      <th>prev_earnings</th>\n",
       "      <th>d_rob_ols_Xfit</th>\n",
       "      <th>clstrs9</th>\n",
       "      <th>rewards_before_standardisation</th>\n",
       "    </tr>\n",
       "  </thead>\n",
       "  <tbody>\n",
       "    <tr>\n",
       "      <th>0</th>\n",
       "      <td>1.327606</td>\n",
       "      <td>0.207613</td>\n",
       "      <td>-0.758122</td>\n",
       "      <td>-0.000069</td>\n",
       "      <td>2</td>\n",
       "      <td>-14601</td>\n",
       "    </tr>\n",
       "    <tr>\n",
       "      <th>1</th>\n",
       "      <td>-0.952930</td>\n",
       "      <td>-0.326505</td>\n",
       "      <td>0.084063</td>\n",
       "      <td>-0.000084</td>\n",
       "      <td>4</td>\n",
       "      <td>-17701</td>\n",
       "    </tr>\n",
       "    <tr>\n",
       "      <th>2</th>\n",
       "      <td>0.083677</td>\n",
       "      <td>0.207613</td>\n",
       "      <td>-0.758122</td>\n",
       "      <td>0.000111</td>\n",
       "      <td>2</td>\n",
       "      <td>23503</td>\n",
       "    </tr>\n",
       "    <tr>\n",
       "      <th>3</th>\n",
       "      <td>-0.227305</td>\n",
       "      <td>-0.860622</td>\n",
       "      <td>1.464251</td>\n",
       "      <td>0.000064</td>\n",
       "      <td>1</td>\n",
       "      <td>13452</td>\n",
       "    </tr>\n",
       "    <tr>\n",
       "      <th>4</th>\n",
       "      <td>-1.160251</td>\n",
       "      <td>-1.394739</td>\n",
       "      <td>1.493332</td>\n",
       "      <td>-0.000061</td>\n",
       "      <td>1</td>\n",
       "      <td>-12903</td>\n",
       "    </tr>\n",
       "  </tbody>\n",
       "</table>\n",
       "</div>"
      ],
      "text/plain": [
       "        age  education  prev_earnings  d_rob_ols_Xfit  clstrs9  \\\n",
       "0  1.327606   0.207613      -0.758122       -0.000069        2   \n",
       "1 -0.952930  -0.326505       0.084063       -0.000084        4   \n",
       "2  0.083677   0.207613      -0.758122        0.000111        2   \n",
       "3 -0.227305  -0.860622       1.464251        0.000064        1   \n",
       "4 -1.160251  -1.394739       1.493332       -0.000061        1   \n",
       "\n",
       "   rewards_before_standardisation  \n",
       "0                          -14601  \n",
       "1                          -17701  \n",
       "2                           23503  \n",
       "3                           13452  \n",
       "4                          -12903  "
      ]
     },
     "execution_count": 9,
     "metadata": {},
     "output_type": "execute_result"
    }
   ],
   "source": [
    "doubly_robust.head()"
   ]
  },
  {
   "cell_type": "code",
   "execution_count": 10,
   "metadata": {},
   "outputs": [
    {
     "data": {
      "image/png": "[encoded data removed]",
      "text/plain": [
       "<Figure size 576x360 with 1 Axes>"
      ]
     },
     "metadata": {
      "needs_background": "light"
     },
     "output_type": "display_data"
    }
   ],
   "source": [
    "# Doubly robust OLS rewards before standardisation\n",
    "pandas_plot = doubly_robust['rewards_before_standardisation'].plot(kind = 'hist', color = palette_used[8], title = '\\nRewards doubly robust\\n', density = False, bins = 100, figsize = (8,5))\n",
    "pandas_figure = pandas_plot.get_figure()\n",
    "pandas_figure.tight_layout()\n",
    "pandas_figure.savefig(os.path.join('/Users/friedrich/Documents/research_repos/dynamic_treatment/data', 'doubly_robust_hist.pdf'))"
   ]
  },
  {
   "cell_type": "code",
   "execution_count": 11,
   "metadata": {},
   "outputs": [
    {
     "data": {
      "text/plain": [
       "450.34674184104955"
      ]
     },
     "execution_count": 11,
     "metadata": {},
     "output_type": "execute_result"
    }
   ],
   "source": [
    "# Mean\n",
    "doubly_robust['rewards_before_standardisation'].mean()"
   ]
  },
  {
   "cell_type": "code",
   "execution_count": 12,
   "metadata": {},
   "outputs": [
    {
     "data": {
      "text/plain": [
       "33019.26230129994"
      ]
     },
     "execution_count": 12,
     "metadata": {},
     "output_type": "execute_result"
    }
   ],
   "source": [
    "# Sd\n",
    "doubly_robust['rewards_before_standardisation'].std()"
   ]
  },
  {
   "cell_type": "code",
   "execution_count": 36,
   "metadata": {},
   "outputs": [
    {
     "name": "stdout",
     "output_type": "stream",
     "text": [
      "(0.0, 0.39215686274509803, 0.0)\n"
     ]
    }
   ],
   "source": [
    "from matplotlib import colors\n",
    "\n",
    "print(colors.to_rgb('darkgreen'))"
   ]
  },
  {
   "cell_type": "code",
   "execution_count": null,
   "metadata": {},
   "outputs": [],
   "source": []
  }
 ],
 "metadata": {
  "kernelspec": {
   "display_name": "Python 3",
   "language": "python",
   "name": "python3"
  },
  "language_info": {
   "codemirror_mode": {
    "name": "ipython",
    "version": 3
   },
   "file_extension": ".py",
   "mimetype": "text/x-python",
   "name": "python",
   "nbconvert_exporter": "python",
   "pygments_lexer": "ipython3",
   "version": "3.6.8"
  }
 },
 "nbformat": 4,
 "nbformat_minor": 2
}
