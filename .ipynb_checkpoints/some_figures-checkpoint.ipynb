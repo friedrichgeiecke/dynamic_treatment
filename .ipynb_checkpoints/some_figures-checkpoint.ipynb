{
 "cells": [
  {
   "cell_type": "markdown",
   "metadata": {},
   "source": [
    "### Figures"
   ]
  },
  {
   "cell_type": "code",
   "execution_count": 1,
   "metadata": {},
   "outputs": [],
   "source": [
    "# Importing modules\n",
    "import numpy as np\n",
    "import pandas as pd\n",
    "import os\n",
    "import matplotlib.pyplot as plt\n",
    "import seaborn as sns\n",
    "plt.style.use('seaborn')\n",
    "plt.rc('font', family='serif')"
   ]
  },
  {
   "cell_type": "code",
   "execution_count": 4,
   "metadata": {},
   "outputs": [
    {
     "data": {
      "image/png": "[encoded data removed]",
      "text/plain": [
       "<Figure size 864x72 with 1 Axes>"
      ]
     },
     "metadata": {
      "needs_background": "light"
     },
     "output_type": "display_data"
    }
   ],
   "source": [
    "# Colour palette used in the paper (the coefficient plots have 12 coefficients in the policy function)\n",
    "palette_used = sns.color_palette(\"hls\", 12)\n",
    "sns.palplot(palette_used)"
   ]
  },
  {
   "cell_type": "code",
   "execution_count": 32,
   "metadata": {},
   "outputs": [
    {
     "data": {
      "text/plain": [
       "(0.33999999999999997, 0.5688000000000001, 0.86)"
      ]
     },
     "execution_count": 32,
     "metadata": {},
     "output_type": "execute_result"
    }
   ],
   "source": [
    "palette_used[7]"
   ]
  },
  {
   "cell_type": "code",
   "execution_count": 3,
   "metadata": {},
   "outputs": [],
   "source": [
    "# Loading output of the run with standard OLS rewards\n",
    "standard_ols = pd.read_csv(os.path.join('/Users/friedrich/Documents/research_repos/dynamic_treatment/data', 'transformed_rct_data_standard_ols.csv'), index_col = 0)\n",
    "\n",
    "# Loading output of the run with doubly robust rewards\n",
    "doubly_robust = pd.read_csv(os.path.join('/Users/friedrich/Documents/research_repos/dynamic_treatment/data', 'transformed_rct_data_doubly_robust.csv'), index_col = 0)"
   ]
  },
  {
   "cell_type": "markdown",
   "metadata": {},
   "source": [
    "#### Standard OLS"
   ]
  },
  {
   "cell_type": "code",
   "execution_count": 2,
   "metadata": {},
   "outputs": [
    {
     "ename": "NameError",
     "evalue": "name 'standard_ols' is not defined",
     "output_type": "error",
     "traceback": [
      "\u001b[0;31m---------------------------------------------------------------------------\u001b[0m",
      "\u001b[0;31mNameError\u001b[0m                                 Traceback (most recent call last)",
      "\u001b[0;32m<ipython-input-2-d8135fb59884>\u001b[0m in \u001b[0;36m<module>\u001b[0;34m\u001b[0m\n\u001b[0;32m----> 1\u001b[0;31m \u001b[0mstandard_ols\u001b[0m\u001b[0;34m.\u001b[0m\u001b[0mhead\u001b[0m\u001b[0;34m(\u001b[0m\u001b[0;34m)\u001b[0m\u001b[0;34m\u001b[0m\u001b[0;34m\u001b[0m\u001b[0m\n\u001b[0m",
      "\u001b[0;31mNameError\u001b[0m: name 'standard_ols' is not defined"
     ]
    }
   ],
   "source": [
    "standard_ols.head()"
   ]
  },
  {
   "cell_type": "code",
   "execution_count": 5,
   "metadata": {},
   "outputs": [
    {
     "data": {
      "image/png": "[encoded data removed]",
      "text/plain": [
       "<Figure size 576x360 with 1 Axes>"
      ]
     },
     "metadata": {
      "needs_background": "light"
     },
     "output_type": "display_data"
    }
   ],
   "source": [
    "# Standard OLS rewards before standardisation\n",
    "pandas_plot = standard_ols['rewards_before_standardisation'].plot(kind = 'hist', color = palette_used[8], title = '\\nRewards standard OLS\\n', density = False, bins = 100, figsize = (8,5))\n",
    "pandas_figure = pandas_plot.get_figure()\n",
    "pandas_figure.tight_layout()\n",
    "pandas_figure.savefig(os.path.join('/Users/friedrich/Documents/research_repos/dynamic_treatment/data', 'standard_ols_hist.pdf'))"
   ]
  },
  {
   "cell_type": "code",
   "execution_count": 6,
   "metadata": {},
   "outputs": [
    {
     "data": {
      "text/plain": [
       "451.7761718536154"
      ]
     },
     "execution_count": 6,
     "metadata": {},
     "output_type": "execute_result"
    }
   ],
   "source": [
    "# Mean\n",
    "standard_ols['rewards_before_standardisation'].mean()"
   ]
  },
  {
   "cell_type": "code",
   "execution_count": 7,
   "metadata": {},
   "outputs": [
    {
     "data": {
      "text/plain": [
       "577.5972798383519"
      ]
     },
     "execution_count": 7,
     "metadata": {},
     "output_type": "execute_result"
    }
   ],
   "source": [
    "# Sd\n",
    "standard_ols['rewards_before_standardisation'].std()"
   ]
  },
  {
   "cell_type": "code",
   "execution_count": 8,
   "metadata": {},
   "outputs": [
    {
     "data": {
      "image/png": "[encoded data removed]",
      "text/plain": [
       "<Figure size 576x360 with 1 Axes>"
      ]
     },
     "metadata": {
      "needs_background": "light"
     },
     "output_type": "display_data"
    }
   ],
   "source": [
    "# Standard OLS rewards after standardisation\n",
    "pandas_plot = standard_ols['Rlr1'].plot(kind = 'hist', color = palette_used[4], title = '\\nRewards standard OLS (after standardisation)\\n', density = False, bins = 100, figsize = (8,5))\n",
    "pandas_figure = pandas_plot.get_figure()\n",
    "pandas_figure.tight_layout()\n",
    "pandas_figure.savefig(os.path.join('/Users/friedrich/Documents/research_repos/dynamic_treatment/data', 'standard_ols_hist_standardised.pdf'))"
   ]
  },
  {
   "cell_type": "markdown",
   "metadata": {},
   "source": [
    "#### Doubly robust OLS (cross-fitted)"
   ]
  },
  {
   "cell_type": "code",
   "execution_count": 9,
   "metadata": {},
   "outputs": [
    {
     "data": {
      "text/html": [
       "<div>\n",
       "<style scoped>\n",
       "    .dataframe tbody tr th:only-of-type {\n",
       "        vertical-align: middle;\n",
       "    }\n",
       "\n",
       "    .dataframe tbody tr th {\n",
       "        vertical-align: top;\n",
       "    }\n",
       "\n",
       "    .dataframe thead th {\n",
       "        text-align: right;\n",
       "    }\n",
       "</style>\n",
       "<table border=\"1\" class=\"dataframe\">\n",
       "  <thead>\n",
       "    <tr style=\"text-align: right;\">\n",
       "      <th></th>\n",
       "      <th>age</th>\n",
       "      <th>education</th>\n",
       "      <th>prev_earnings</th>\n",
       "      <th>d_rob_ols_Xfit</th>\n",
       "      <th>clstrs9</th>\n",
       "      <th>rewards_before_standardisation</th>\n",
       "    </tr>\n",
       "  </thead>\n",
       "  <tbody>\n",
       "    <tr>\n",
       "      <th>0</th>\n",
       "      <td>1.327606</td>\n",
       "      <td>0.207613</td>\n",
       "      <td>-0.758122</td>\n",
       "      <td>-0.000069</td>\n",
       "      <td>2</td>\n",
       "      <td>-14601</td>\n",
       "    </tr>\n",
       "    <tr>\n",
       "      <th>1</th>\n",
       "      <td>-0.952930</td>\n",
       "      <td>-0.326505</td>\n",
       "      <td>0.084063</td>\n",
       "      <td>-0.000084</td>\n",
       "      <td>4</td>\n",
       "      <td>-17701</td>\n",
       "    </tr>\n",
       "    <tr>\n",
       "      <th>2</th>\n",
       "      <td>0.083677</td>\n",
       "      <td>0.207613</td>\n",
       "      <td>-0.758122</td>\n",
       "      <td>0.000111</td>\n",
       "      <td>2</td>\n",
       "      <td>23503</td>\n",
       "    </tr>\n",
       "    <tr>\n",
       "      <th>3</th>\n",
       "      <td>-0.227305</td>\n",
       "      <td>-0.860622</td>\n",
       "      <td>1.464251</td>\n",
       "      <td>0.000064</td>\n",
       "      <td>1</td>\n",
       "      <td>13452</td>\n",
       "    </tr>\n",
       "    <tr>\n",
       "      <th>4</th>\n",
       "      <td>-1.160251</td>\n",
       "      <td>-1.394739</td>\n",
       "      <td>1.493332</td>\n",
       "      <td>-0.000061</td>\n",
       "      <td>1</td>\n",
       "      <td>-12903</td>\n",
       "    </tr>\n",
       "  </tbody>\n",
       "</table>\n",
       "</div>"
      ],
      "text/plain": [
       "        age  education  prev_earnings  d_rob_ols_Xfit  clstrs9  \\\n",
       "0  1.327606   0.207613      -0.758122       -0.000069        2   \n",
       "1 -0.952930  -0.326505       0.084063       -0.000084        4   \n",
       "2  0.083677   0.207613      -0.758122        0.000111        2   \n",
       "3 -0.227305  -0.860622       1.464251        0.000064        1   \n",
       "4 -1.160251  -1.394739       1.493332       -0.000061        1   \n",
       "\n",
       "   rewards_before_standardisation  \n",
       "0                          -14601  \n",
       "1                          -17701  \n",
       "2                           23503  \n",
       "3                           13452  \n",
       "4                          -12903  "
      ]
     },
     "execution_count": 9,
     "metadata": {},
     "output_type": "execute_result"
    }
   ],
   "source": [
    "doubly_robust.head()"
   ]
  },
  {
   "cell_type": "code",
   "execution_count": 10,
   "metadata": {},
   "outputs": [
    {
     "data": {
      "image/png": "[encoded data removed]",
      "text/plain": [
       "<Figure size 576x360 with 1 Axes>"
      ]
     },
     "metadata": {
      "needs_background": "light"
     },
     "output_type": "display_data"
    }
   ],
   "source": [
    "# Doubly robust OLS rewards before standardisation\n",
    "pandas_plot = doubly_robust['rewards_before_standardisation'].plot(kind = 'hist', color = palette_used[8], title = '\\nRewards doubly robust\\n', density = False, bins = 100, figsize = (8,5))\n",
    "pandas_figure = pandas_plot.get_figure()\n",
    "pandas_figure.tight_layout()\n",
    "pandas_figure.savefig(os.path.join('/Users/friedrich/Documents/research_repos/dynamic_treatment/data', 'doubly_robust_hist.pdf'))"
   ]
  },
  {
   "cell_type": "code",
   "execution_count": 11,
   "metadata": {},
   "outputs": [
    {
     "data": {
      "text/plain": [
       "450.34674184104955"
      ]
     },
     "execution_count": 11,
     "metadata": {},
     "output_type": "execute_result"
    }
   ],
   "source": [
    "# Mean\n",
    "doubly_robust['rewards_before_standardisation'].mean()"
   ]
  },
  {
   "cell_type": "code",
   "execution_count": 12,
   "metadata": {},
   "outputs": [
    {
     "data": {
      "text/plain": [
       "33019.26230129994"
      ]
     },
     "execution_count": 12,
     "metadata": {},
     "output_type": "execute_result"
    }
   ],
   "source": [
    "# Sd\n",
    "doubly_robust['rewards_before_standardisation'].std()"
   ]
  },
  {
   "cell_type": "code",
   "execution_count": 36,
   "metadata": {},
   "outputs": [
    {
     "name": "stdout",
     "output_type": "stream",
     "text": [
      "(0.0, 0.39215686274509803, 0.0)\n"
     ]
    }
   ],
   "source": [
    "from matplotlib import colors\n",
    "\n",
    "print(colors.to_rgb('darkgreen'))"
   ]
  },
  {
   "cell_type": "markdown",
   "metadata": {},
   "source": [
    "#### Creating reward figures"
   ]
  },
  {
   "cell_type": "code",
   "execution_count": 12,
   "metadata": {},
   "outputs": [],
   "source": [
    "# Recreating reward figures for runs\n",
    "reward_option = 'dr'"
   ]
  },
  {
   "cell_type": "code",
   "execution_count": 13,
   "metadata": {},
   "outputs": [
    {
     "data": {
      "text/plain": [
       "'dr'"
      ]
     },
     "execution_count": 13,
     "metadata": {},
     "output_type": "execute_result"
    }
   ],
   "source": [
    "reward_option"
   ]
  },
  {
   "cell_type": "code",
   "execution_count": 14,
   "metadata": {},
   "outputs": [],
   "source": [
    "if reward_option == 'ols':\n",
    "    \n",
    "    reward_column_name = 'Rlr1'\n",
    "    max_episodes = 10100\n",
    "    baseline_reward = 0.189201137239787\n",
    "    input_directory = '/Users/friedrich/Dropbox/Research/dynamic_treatment/29092010_final_applied_paper/runs_different_nodes/run_2019_09_24_ols/'\n",
    "\n",
    "else:\n",
    "\n",
    "    reward_column_name = 'd_rob_ols_Xfit'\n",
    "    max_episodes = 40100\n",
    "    baseline_reward = 0.00333945246331861\n",
    "    input_directory = '/Users/friedrich/Dropbox/Research/dynamic_treatment/29092010_final_applied_paper/runs_different_nodes/run_2019_09_18_dr/'"
   ]
  },
  {
   "cell_type": "code",
   "execution_count": 15,
   "metadata": {},
   "outputs": [],
   "source": [
    "output_directory = '/Users/friedrich/Documents/research_repos/dynamic_treatment/data/'"
   ]
  },
  {
   "cell_type": "code",
   "execution_count": 16,
   "metadata": {},
   "outputs": [],
   "source": [
    "# Saving reward arrays to disk (non-normalised)\n",
    "x_array = np.loadtxt(os.path.join(input_directory, f'x_axis_for_rewards_{reward_column_name}.csv'), delimiter=',')\n",
    "y_array = np.loadtxt(os.path.join(input_directory, f'y_axis_for_rewards_{reward_column_name}.csv'), delimiter=',')\n",
    "y_array[0] = baseline_reward\n",
    "y_mask = np.isfinite(y_array)"
   ]
  },
  {
   "cell_type": "code",
   "execution_count": 17,
   "metadata": {},
   "outputs": [
    {
     "name": "stdout",
     "output_type": "stream",
     "text": [
      "0.00333945246331861\n"
     ]
    }
   ],
   "source": [
    "# Before normalisation\n",
    "print(y_array[0])\n",
    "\n",
    "# Normalising current reward arrays for plotting\n",
    "y_array = y_array / y_array[0]"
   ]
  },
  {
   "cell_type": "code",
   "execution_count": 18,
   "metadata": {},
   "outputs": [],
   "source": [
    "x_array = x_array[:max_episodes]\n",
    "y_array = y_array[:max_episodes]\n",
    "y_mask = y_mask[:max_episodes]"
   ]
  },
  {
   "cell_type": "code",
   "execution_count": 19,
   "metadata": {},
   "outputs": [
    {
     "data": {
      "image/png": "[encoded data removed]",
      "text/plain": [
       "<Figure size 864x360 with 1 Axes>"
      ]
     },
     "metadata": {
      "needs_background": "light"
     },
     "output_type": "display_data"
    }
   ],
   "source": [
    "# Setting the colour palette\n",
    "colour_palette_in_use = sns.color_palette(\"husl\", 12)\n",
    "\n",
    "# Plotting the figure\n",
    "fig = plt.figure(figsize=(12,5))\n",
    "plt.plot(x_array[y_mask], y_array[y_mask], linestyle='--', marker='o', color = colour_palette_in_use[8])\n",
    "plt.title('\\nReward trajectory\\n')\n",
    "plt.ylabel('Average cumulative episode reward achieved\\n')\n",
    "plt.xlabel(f'\\nEpisodes approximately trained in each of 23 parallel processes')\n",
    "fig.tight_layout()\n",
    "plt.savefig(os.path.join(output_directory, f'current_reward_trajectory_{reward_column_name}_rewards.pdf'), dpi = 300)"
   ]
  },
  {
   "cell_type": "code",
   "execution_count": null,
   "metadata": {},
   "outputs": [],
   "source": []
  },
  {
   "cell_type": "code",
   "execution_count": null,
   "metadata": {},
   "outputs": [],
   "source": []
  },
  {
   "cell_type": "code",
   "execution_count": null,
   "metadata": {},
   "outputs": [],
   "source": []
  },
  {
   "cell_type": "code",
   "execution_count": null,
   "metadata": {},
   "outputs": [],
   "source": []
  }
 ],
 "metadata": {
  "kernelspec": {
   "display_name": "Python 3",
   "language": "python",
   "name": "python3"
  },
  "language_info": {
   "codemirror_mode": {
    "name": "ipython",
    "version": 3
   },
   "file_extension": ".py",
   "mimetype": "text/x-python",
   "name": "python",
   "nbconvert_exporter": "python",
   "pygments_lexer": "ipython3",
   "version": "3.6.8"
  }
 },
 "nbformat": 4,
 "nbformat_minor": 2
}
